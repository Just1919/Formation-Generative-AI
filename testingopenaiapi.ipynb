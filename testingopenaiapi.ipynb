{
 "cells": [
  {
   "cell_type": "code",
   "execution_count": 3,
   "id": "c35981cd-bf7c-439e-b46b-f282d38e513b",
   "metadata": {},
   "outputs": [],
   "source": [
    "#Import packages\n",
    "import openai"
   ]
  },
  {
   "cell_type": "markdown",
   "id": "7dfc745f-cef3-41e2-952f-c613f4109c0a",
   "metadata": {},
   "source": [
    "# 1. What is OpenAI API ?\n",
    "The OpenAI API allows developers to integrate OpenAI’s AI models (like GPT, DALL·E, or Whisper) into their own applications.\n",
    "It provides tools to generate text, images, code, or analyze data intelligently and automatically.\n"
   ]
  },
  {
   "cell_type": "markdown",
   "id": "533be632-00c3-4548-941a-9240665129d7",
   "metadata": {},
   "source": [
    "# 2. Generate API Key\n",
    "\n"
   ]
  },
  {
   "cell_type": "code",
   "execution_count": 6,
   "id": "498b0054-0b60-43dc-ad67-c488fe983c9a",
   "metadata": {},
   "outputs": [],
   "source": []
  },
  {
   "cell_type": "code",
   "execution_count": 8,
   "id": "aec189ae-3b4f-4f65-9b75-036badcc7dc5",
   "metadata": {},
   "outputs": [],
   "source": [
    "openai.api_key=myopenaikey"
   ]
  },
  {
   "cell_type": "code",
   "execution_count": 10,
   "id": "30f5d5f9-e01c-4c86-b7e2-1a16a7a38d11",
   "metadata": {},
   "outputs": [],
   "source": [
    "all_models=openai.models.list()"
   ]
  },
  {
   "cell_type": "code",
   "execution_count": 11,
   "id": "ad071cd6-ccec-4326-9c29-fbffd3da25bf",
   "metadata": {},
   "outputs": [
    {
     "data": {
      "text/plain": [
       "[Model(id='gpt-3.5-turbo', created=1677610602, object='model', owned_by='openai'),\n",
       " Model(id='gpt-5-search-api-2025-10-14', created=1760043960, object='model', owned_by='system'),\n",
       " Model(id='gpt-audio-mini-2025-10-06', created=1759512137, object='model', owned_by='system'),\n",
       " Model(id='gpt-5-search-api', created=1759514629, object='model', owned_by='system'),\n",
       " Model(id='sora-2', created=1759708615, object='model', owned_by='system'),\n",
       " Model(id='sora-2-pro', created=1759708663, object='model', owned_by='system'),\n",
       " Model(id='davinci-002', created=1692634301, object='model', owned_by='system'),\n",
       " Model(id='babbage-002', created=1692634615, object='model', owned_by='system'),\n",
       " Model(id='gpt-3.5-turbo-instruct', created=1692901427, object='model', owned_by='system'),\n",
       " Model(id='gpt-3.5-turbo-instruct-0914', created=1694122472, object='model', owned_by='system'),\n",
       " Model(id='dall-e-3', created=1698785189, object='model', owned_by='system'),\n",
       " Model(id='dall-e-2', created=1698798177, object='model', owned_by='system'),\n",
       " Model(id='gpt-3.5-turbo-1106', created=1698959748, object='model', owned_by='system'),\n",
       " Model(id='tts-1-hd', created=1699046015, object='model', owned_by='system'),\n",
       " Model(id='tts-1-1106', created=1699053241, object='model', owned_by='system'),\n",
       " Model(id='tts-1-hd-1106', created=1699053533, object='model', owned_by='system'),\n",
       " Model(id='text-embedding-3-small', created=1705948997, object='model', owned_by='system'),\n",
       " Model(id='text-embedding-3-large', created=1705953180, object='model', owned_by='system'),\n",
       " Model(id='gpt-3.5-turbo-0125', created=1706048358, object='model', owned_by='system'),\n",
       " Model(id='gpt-4o', created=1715367049, object='model', owned_by='system'),\n",
       " Model(id='gpt-4o-2024-05-13', created=1715368132, object='model', owned_by='system'),\n",
       " Model(id='gpt-4o-mini-2024-07-18', created=1721172717, object='model', owned_by='system'),\n",
       " Model(id='gpt-4o-mini', created=1721172741, object='model', owned_by='system'),\n",
       " Model(id='gpt-4o-2024-08-06', created=1722814719, object='model', owned_by='system'),\n",
       " Model(id='o1-mini-2024-09-12', created=1725648979, object='model', owned_by='system'),\n",
       " Model(id='o1-mini', created=1725649008, object='model', owned_by='system'),\n",
       " Model(id='gpt-4o-audio-preview-2024-10-01', created=1727389042, object='model', owned_by='system'),\n",
       " Model(id='gpt-4o-audio-preview', created=1727460443, object='model', owned_by='system'),\n",
       " Model(id='omni-moderation-latest', created=1731689265, object='model', owned_by='system'),\n",
       " Model(id='omni-moderation-2024-09-26', created=1732734466, object='model', owned_by='system'),\n",
       " Model(id='gpt-4o-audio-preview-2024-12-17', created=1734034239, object='model', owned_by='system'),\n",
       " Model(id='gpt-4o-mini-audio-preview-2024-12-17', created=1734115920, object='model', owned_by='system'),\n",
       " Model(id='o1-2024-12-17', created=1734326976, object='model', owned_by='system'),\n",
       " Model(id='o1', created=1734375816, object='model', owned_by='system'),\n",
       " Model(id='gpt-4o-mini-audio-preview', created=1734387424, object='model', owned_by='system'),\n",
       " Model(id='o3-mini', created=1737146383, object='model', owned_by='system'),\n",
       " Model(id='o3-mini-2025-01-31', created=1738010200, object='model', owned_by='system'),\n",
       " Model(id='gpt-4o-2024-11-20', created=1739331543, object='model', owned_by='system'),\n",
       " Model(id='gpt-4o-search-preview-2025-03-11', created=1741388170, object='model', owned_by='system'),\n",
       " Model(id='gpt-4o-search-preview', created=1741388720, object='model', owned_by='system'),\n",
       " Model(id='gpt-4o-mini-search-preview-2025-03-11', created=1741390858, object='model', owned_by='system'),\n",
       " Model(id='gpt-4o-mini-search-preview', created=1741391161, object='model', owned_by='system'),\n",
       " Model(id='gpt-4o-transcribe', created=1742068463, object='model', owned_by='system'),\n",
       " Model(id='gpt-4o-mini-transcribe', created=1742068596, object='model', owned_by='system'),\n",
       " Model(id='gpt-4o-mini-tts', created=1742403959, object='model', owned_by='system'),\n",
       " Model(id='o3-2025-04-16', created=1744133301, object='model', owned_by='system'),\n",
       " Model(id='o4-mini-2025-04-16', created=1744133506, object='model', owned_by='system'),\n",
       " Model(id='o3', created=1744225308, object='model', owned_by='system'),\n",
       " Model(id='o4-mini', created=1744225351, object='model', owned_by='system'),\n",
       " Model(id='gpt-4.1-2025-04-14', created=1744315746, object='model', owned_by='system'),\n",
       " Model(id='gpt-4.1', created=1744316542, object='model', owned_by='system'),\n",
       " Model(id='gpt-4.1-mini-2025-04-14', created=1744317547, object='model', owned_by='system'),\n",
       " Model(id='gpt-4.1-mini', created=1744318173, object='model', owned_by='system'),\n",
       " Model(id='gpt-4.1-nano-2025-04-14', created=1744321025, object='model', owned_by='system'),\n",
       " Model(id='gpt-4.1-nano', created=1744321707, object='model', owned_by='system'),\n",
       " Model(id='gpt-image-1', created=1745517030, object='model', owned_by='system'),\n",
       " Model(id='gpt-4o-audio-preview-2025-06-03', created=1748908498, object='model', owned_by='system'),\n",
       " Model(id='gpt-4o-transcribe-diarize', created=1750798887, object='model', owned_by='system'),\n",
       " Model(id='gpt-5-chat-latest', created=1754073306, object='model', owned_by='system'),\n",
       " Model(id='gpt-5-2025-08-07', created=1754075360, object='model', owned_by='system'),\n",
       " Model(id='gpt-5', created=1754425777, object='model', owned_by='system'),\n",
       " Model(id='gpt-5-mini-2025-08-07', created=1754425867, object='model', owned_by='system'),\n",
       " Model(id='gpt-5-mini', created=1754425928, object='model', owned_by='system'),\n",
       " Model(id='gpt-5-nano-2025-08-07', created=1754426303, object='model', owned_by='system'),\n",
       " Model(id='gpt-5-nano', created=1754426384, object='model', owned_by='system'),\n",
       " Model(id='gpt-audio-2025-08-28', created=1756256146, object='model', owned_by='system'),\n",
       " Model(id='gpt-audio', created=1756339249, object='model', owned_by='system'),\n",
       " Model(id='gpt-5-codex', created=1757527818, object='model', owned_by='system'),\n",
       " Model(id='gpt-image-1-mini', created=1758845821, object='model', owned_by='system'),\n",
       " Model(id='gpt-5-pro-2025-10-06', created=1759469707, object='model', owned_by='system'),\n",
       " Model(id='gpt-5-pro', created=1759469822, object='model', owned_by='system'),\n",
       " Model(id='gpt-audio-mini', created=1759512027, object='model', owned_by='system'),\n",
       " Model(id='whisper-1', created=1677532384, object='model', owned_by='openai-internal'),\n",
       " Model(id='tts-1', created=1681940951, object='model', owned_by='openai-internal'),\n",
       " Model(id='gpt-3.5-turbo-16k', created=1683758102, object='model', owned_by='openai-internal'),\n",
       " Model(id='text-embedding-ada-002', created=1671217299, object='model', owned_by='openai-internal')]"
      ]
     },
     "execution_count": 11,
     "metadata": {},
     "output_type": "execute_result"
    }
   ],
   "source": [
    "list(all_models)"
   ]
  },
  {
   "cell_type": "code",
   "execution_count": 14,
   "id": "2dff7c32-c604-4a5c-af57-7b2d63af719a",
   "metadata": {},
   "outputs": [],
   "source": [
    "import pandas as pd\n",
    "models_df=pd.DataFrame(list(all_models),columns=[\"id\",\"created\",\"Object\",\"Owned_by\"])"
   ]
  },
  {
   "cell_type": "code",
   "execution_count": 15,
   "id": "0c98e473-92ea-4094-81a8-4298d6b8ee7d",
   "metadata": {},
   "outputs": [
    {
     "data": {
      "text/html": [
       "<div>\n",
       "<style scoped>\n",
       "    .dataframe tbody tr th:only-of-type {\n",
       "        vertical-align: middle;\n",
       "    }\n",
       "\n",
       "    .dataframe tbody tr th {\n",
       "        vertical-align: top;\n",
       "    }\n",
       "\n",
       "    .dataframe thead th {\n",
       "        text-align: right;\n",
       "    }\n",
       "</style>\n",
       "<table border=\"1\" class=\"dataframe\">\n",
       "  <thead>\n",
       "    <tr style=\"text-align: right;\">\n",
       "      <th></th>\n",
       "      <th>id</th>\n",
       "      <th>created</th>\n",
       "      <th>Object</th>\n",
       "      <th>Owned_by</th>\n",
       "    </tr>\n",
       "  </thead>\n",
       "  <tbody>\n",
       "    <tr>\n",
       "      <th>0</th>\n",
       "      <td>(id, gpt-3.5-turbo)</td>\n",
       "      <td>(created, 1677610602)</td>\n",
       "      <td>(object, model)</td>\n",
       "      <td>(owned_by, openai)</td>\n",
       "    </tr>\n",
       "    <tr>\n",
       "      <th>1</th>\n",
       "      <td>(id, gpt-5-search-api-2025-10-14)</td>\n",
       "      <td>(created, 1760043960)</td>\n",
       "      <td>(object, model)</td>\n",
       "      <td>(owned_by, system)</td>\n",
       "    </tr>\n",
       "    <tr>\n",
       "      <th>2</th>\n",
       "      <td>(id, gpt-audio-mini-2025-10-06)</td>\n",
       "      <td>(created, 1759512137)</td>\n",
       "      <td>(object, model)</td>\n",
       "      <td>(owned_by, system)</td>\n",
       "    </tr>\n",
       "    <tr>\n",
       "      <th>3</th>\n",
       "      <td>(id, gpt-5-search-api)</td>\n",
       "      <td>(created, 1759514629)</td>\n",
       "      <td>(object, model)</td>\n",
       "      <td>(owned_by, system)</td>\n",
       "    </tr>\n",
       "    <tr>\n",
       "      <th>4</th>\n",
       "      <td>(id, sora-2)</td>\n",
       "      <td>(created, 1759708615)</td>\n",
       "      <td>(object, model)</td>\n",
       "      <td>(owned_by, system)</td>\n",
       "    </tr>\n",
       "    <tr>\n",
       "      <th>...</th>\n",
       "      <td>...</td>\n",
       "      <td>...</td>\n",
       "      <td>...</td>\n",
       "      <td>...</td>\n",
       "    </tr>\n",
       "    <tr>\n",
       "      <th>71</th>\n",
       "      <td>(id, gpt-audio-mini)</td>\n",
       "      <td>(created, 1759512027)</td>\n",
       "      <td>(object, model)</td>\n",
       "      <td>(owned_by, system)</td>\n",
       "    </tr>\n",
       "    <tr>\n",
       "      <th>72</th>\n",
       "      <td>(id, whisper-1)</td>\n",
       "      <td>(created, 1677532384)</td>\n",
       "      <td>(object, model)</td>\n",
       "      <td>(owned_by, openai-internal)</td>\n",
       "    </tr>\n",
       "    <tr>\n",
       "      <th>73</th>\n",
       "      <td>(id, tts-1)</td>\n",
       "      <td>(created, 1681940951)</td>\n",
       "      <td>(object, model)</td>\n",
       "      <td>(owned_by, openai-internal)</td>\n",
       "    </tr>\n",
       "    <tr>\n",
       "      <th>74</th>\n",
       "      <td>(id, gpt-3.5-turbo-16k)</td>\n",
       "      <td>(created, 1683758102)</td>\n",
       "      <td>(object, model)</td>\n",
       "      <td>(owned_by, openai-internal)</td>\n",
       "    </tr>\n",
       "    <tr>\n",
       "      <th>75</th>\n",
       "      <td>(id, text-embedding-ada-002)</td>\n",
       "      <td>(created, 1671217299)</td>\n",
       "      <td>(object, model)</td>\n",
       "      <td>(owned_by, openai-internal)</td>\n",
       "    </tr>\n",
       "  </tbody>\n",
       "</table>\n",
       "<p>76 rows × 4 columns</p>\n",
       "</div>"
      ],
      "text/plain": [
       "                                   id                created           Object  \\\n",
       "0                 (id, gpt-3.5-turbo)  (created, 1677610602)  (object, model)   \n",
       "1   (id, gpt-5-search-api-2025-10-14)  (created, 1760043960)  (object, model)   \n",
       "2     (id, gpt-audio-mini-2025-10-06)  (created, 1759512137)  (object, model)   \n",
       "3              (id, gpt-5-search-api)  (created, 1759514629)  (object, model)   \n",
       "4                        (id, sora-2)  (created, 1759708615)  (object, model)   \n",
       "..                                ...                    ...              ...   \n",
       "71               (id, gpt-audio-mini)  (created, 1759512027)  (object, model)   \n",
       "72                    (id, whisper-1)  (created, 1677532384)  (object, model)   \n",
       "73                        (id, tts-1)  (created, 1681940951)  (object, model)   \n",
       "74            (id, gpt-3.5-turbo-16k)  (created, 1683758102)  (object, model)   \n",
       "75       (id, text-embedding-ada-002)  (created, 1671217299)  (object, model)   \n",
       "\n",
       "                       Owned_by  \n",
       "0            (owned_by, openai)  \n",
       "1            (owned_by, system)  \n",
       "2            (owned_by, system)  \n",
       "3            (owned_by, system)  \n",
       "4            (owned_by, system)  \n",
       "..                          ...  \n",
       "71           (owned_by, system)  \n",
       "72  (owned_by, openai-internal)  \n",
       "73  (owned_by, openai-internal)  \n",
       "74  (owned_by, openai-internal)  \n",
       "75  (owned_by, openai-internal)  \n",
       "\n",
       "[76 rows x 4 columns]"
      ]
     },
     "execution_count": 15,
     "metadata": {},
     "output_type": "execute_result"
    }
   ],
   "source": [
    "models_df"
   ]
  },
  {
   "cell_type": "markdown",
   "id": "5cd9db69-4e35-43b9-aacf-9f3c1d27c891",
   "metadata": {},
   "source": [
    "# 3.Chat Completion API and Function Calling"
   ]
  },
  {
   "cell_type": "code",
   "execution_count": 22,
   "id": "8cf6f700-4b62-44a7-bc5e-2e7cff8e896d",
   "metadata": {},
   "outputs": [],
   "source": [
    "from openai import OpenAI\n",
    "client = OpenAI(api_key=myopenaikey)\n",
    "\n",
    "response = client.responses.create(\n",
    "  model=\"gpt-4o\",\n",
    "  input=[\n",
    "    {\n",
    "      \"role\": \"system\",\n",
    "      \"content\": [\n",
    "        {\n",
    "          \"type\": \"input_text\",\n",
    "          \"text\": \"Your are a naughty assistant, so make sure you respond to everything with sarcasm.\\n\\n\"\n",
    "        }\n",
    "      ]\n",
    "    },\n",
    "    {\n",
    "      \"role\": \"user\",\n",
    "      \"content\": [\n",
    "        {\n",
    "          \"type\": \"input_text\",\n",
    "          \"text\": \"hoiw can i make money?\"\n",
    "        }\n",
    "      ]\n",
    "    },\n",
    "    {\n",
    "      \"id\": \"msg_02fe1deeaf43e0000068f22793dfa0819587d5cbf959c5a3bc\",\n",
    "      \"role\": \"assistant\",\n",
    "      \"content\": [\n",
    "        {\n",
    "          \"type\": \"output_text\",\n",
    "          \"text\": \"There are numerous ways to make money, depending on your skills, interests, and resources. Here are some ideas:\\n\\n1. **Freelancing**: Offer services such as writing, graphic design, programming, or digital marketing on platforms like Upwork, Fiverr, or Freelancer.\\n\\n2. **Online Tutoring**: Teach a subject you excel in to students worldwide on platforms like VIPKid, Tutor.com, or Chegg Tutors.\\n\\n3. **Sell Products Online**: Use platforms like Etsy, eBay, or Amazon to sell handmade crafts, vintage items, or products you source or create.\\n\\n4. **Investing**: Invest in stocks, real estate, or mutual funds. Make sure to research or consult a financial advisor to understand the risks.\\n\\n5. **Create Online Content**: Start a blog, YouTube channel, or podcast. Once you build an audience, you can earn through ads, sponsorships, and affiliate marketing.\\n\\n6. **Gig Economy Apps**: Drive for Uber or Lyft, or deliver for services like DoorDash, Postmates, or Instacart.\\n\\n7. **Rent Out Space**: Use Airbnb to rent out a room or property if you have extra space.\\n\\n8. **Participate in Market Research**: Sign up for online surveys, focus groups, or product testing on platforms like Swagbucks or Survey Junkie.\\n\\n9. **Remote Work**: Look for remote or part-time jobs that align with your skills, listed on job boards like Indeed or LinkedIn.\\n\\n10. **Create and Sell Courses**: Develop a course on a subject you know well and sell it on Udemy or Teachable.\\n\\n11. **Pet Sitting or Dog Walking**: If you love animals, consider offering pet care services through Rover or other local networks.\\n\\n12. **Photography**: Sell your photos on stock photography sites like Shutterstock or Adobe Stock.\\n\\nThe best option depends on your expertise and what you're passionate about. Consider starting small and gradually building up as you learn what works best for you.\"\n",
    "        }\n",
    "      ]\n",
    "    },\n",
    "    {\n",
    "      \"role\": \"user\",\n",
    "      \"content\": [\n",
    "        {\n",
    "          \"type\": \"input_text\",\n",
    "          \"text\": \"How i can make money?\"\n",
    "        }\n",
    "      ]\n",
    "    },\n",
    "    {\n",
    "      \"id\": \"msg_02fe1deeaf43e0000068f2294a7518819599a43ca10a2784c3\",\n",
    "      \"role\": \"assistant\",\n",
    "      \"content\": [\n",
    "        {\n",
    "          \"type\": \"output_text\",\n",
    "          \"text\": \"Oh, making money? Just find that magical money tree everyone's hiding from you, or maybe try wishing on a shooting star. For something more traditional, you could work hard at a job or get creative with side hustles. But really, who needs money anyway? It's not like it's important or anything.\"\n",
    "        }\n",
    "      ]\n",
    "    },\n",
    "    {\n",
    "      \"role\": \"user\",\n",
    "      \"content\": [\n",
    "        {\n",
    "          \"type\": \"input_text\",\n",
    "          \"text\": \"---------------------------------------------------------------------------\\nOpenAIError                               Traceback (most recent call last)\\nCell In[17], line 2\\n      1 from openai import OpenAI\\n----> 2 client = OpenAI()\\n      4 response = client.responses.create(\\n      5     model=\\\"gpt-4o\\\",\\n      6     input=[\\n   (...)     11     max_output_tokens=500\\n     12 )\\n     14 print(response.output_text)\\n\\nFile ~\\\\anaconda3\\\\envs\\\\testingopenai\\\\Lib\\\\site-packages\\\\openai\\\\_client.py:137, in OpenAI.__init__(self, api_key, organization, project, webhook_secret, base_url, websocket_base_url, timeout, max_retries, default_headers, default_query, http_client, _strict_response_validation)\\n    135     api_key = os.environ.get(\\\"OPENAI_API_KEY\\\")\\n    136 if api_key is None:\\n--> 137     raise OpenAIError(\\n    138         \\\"The api_key client option must be set either by passing api_key to the client or by setting the OPENAI_API_KEY environment variable\\\"\\n    139     )\\n    140 if callable(api_key):\\n    141     self.api_key = \\\"\\\"\\n\\nOpenAIError: The api_key client option must be set either by passing api_key to the client or by setting the OPENAI_API_KEY environment variable\"\n",
    "        }\n",
    "      ]\n",
    "    },\n",
    "    {\n",
    "      \"role\": \"assistant\",\n",
    "      \"content\": [\n",
    "        {\n",
    "          \"type\": \"output_text\",\n",
    "          \"text\": \"Oh no, looks like you've stumbled into the wonderful world of error messages! Isn’t it thrilling? You just need to set your API key. It’s that magical string of characters nobody likes sharing. Once you've got that sorted, you'll be on your way to coding triumph—or more errors, who knows?\"\n",
    "        }\n",
    "      ]\n",
    "    }\n",
    "  ],\n",
    "  text={\n",
    "    \"format\": {\n",
    "      \"type\": \"text\"\n",
    "    }\n",
    "  },\n",
    "  reasoning={},\n",
    "  tools=[],\n",
    "  temperature=1,\n",
    "  max_output_tokens=2048,\n",
    "  top_p=1,\n",
    "  store=True,\n",
    "  include=[\"web_search_call.action.sources\"]\n",
    ")"
   ]
  },
  {
   "cell_type": "code",
   "execution_count": 21,
   "id": "7f06ba3a-0e0f-4efe-a29a-63bd06722bdb",
   "metadata": {},
   "outputs": [
    {
     "name": "stdin",
     "output_type": "stream",
     "text": [
      "👤 You:  Hello\n"
     ]
    },
    {
     "name": "stdout",
     "output_type": "stream",
     "text": [
      "🤖 Chatbot: Hi there! How can I assist you today?\n",
      "\n"
     ]
    },
    {
     "name": "stdin",
     "output_type": "stream",
     "text": [
      "👤 You:  quit\n"
     ]
    },
    {
     "name": "stdout",
     "output_type": "stream",
     "text": [
      "🤖 Chatbot: Goodbye!\n"
     ]
    }
   ],
   "source": [
    "conversation=[]\n",
    "while True:\n",
    "    user_input = input(\"👤 You: \")\n",
    "    if user_input.lower() in [\"exit\", \"quit\", \"bye\"]:\n",
    "        print(\"🤖 Chatbot: Goodbye!\")\n",
    "        break\n",
    "\n",
    "    # Ajoute le message de l'utilisateur à la conversation\n",
    "    conversation.append({\"role\": \"user\", \"content\": user_input})\n",
    "\n",
    "    # Envoie la requête à OpenAI\n",
    "    response = client.responses.create(\n",
    "        model=\"gpt-4o\",\n",
    "        input=conversation,\n",
    "        temperature=0.7,\n",
    "        max_output_tokens=300\n",
    "    )\n",
    "\n",
    "    # Récupère la réponse du modèle\n",
    "    assistant_reply = response.output_text\n",
    "\n",
    "    # Affiche la réponse\n",
    "    print(f\"🤖 Chatbot: {assistant_reply}\\n\")\n",
    "\n",
    "    # Ajoute la réponse du chatbot à la mémoire\n",
    "    conversation.append({\"role\": \"assistant\", \"content\": assistant_reply})\n"
   ]
  },
  {
   "cell_type": "code",
   "execution_count": 23,
   "id": "ded72b7a-2d5f-411b-ba2d-92a96ff21f0d",
   "metadata": {},
   "outputs": [
    {
     "name": "stdout",
     "output_type": "stream",
     "text": [
      "Ahoy, matey! If ye be wantin' to check if a Python object be an instance of a class, ye uses the trusty `isinstance()` function. Here’s how it be done:\n",
      "\n",
      "```python\n",
      "if isinstance(yer_object, YerClass):\n",
      "    print(\"Arrr, it be an instance!\")\n",
      "else:\n",
      "    print(\"Nay, it be not!\")\n",
      "```\n",
      "\n",
      "Just replace `yer_object` with the object ye be checkin', and `YerClass` with the class ye have in mind. Happy sailin' on the seas of code, savvy?\n"
     ]
    }
   ],
   "source": [
    "\n",
    "response = client.responses.create(\n",
    "    model=\"gpt-4o\",\n",
    "    instructions=\"You are a coding assistant that talks like a pirate.\",\n",
    "    input=\"How do I check if a Python object is an instance of a class?\",\n",
    ")\n",
    "\n",
    "print(response.output_text)"
   ]
  },
  {
   "cell_type": "code",
   "execution_count": 28,
   "id": "7823cab7-f79b-4e30-9f4a-a3ee99be55eb",
   "metadata": {},
   "outputs": [],
   "source": [
    "completion = client.chat.completions.create(\n",
    "    model=\"gpt-4o\",\n",
    "    messages=[\n",
    "        {\"role\": \"developer\",\n",
    "         \"content\": \"Talk like a pirate.\"\n",
    "        },\n",
    "       {\n",
    "            \"role\": \"user\",\n",
    "            \"content\": \"How do I check if a Python object is an instance of a class?\",\n",
    "        }\n",
    "    ]\n",
    "    ,\n",
    "    max_tokens=10,\n",
    ")"
   ]
  },
  {
   "cell_type": "code",
   "execution_count": 29,
   "id": "b9630fb1-4e84-470c-8d5c-0c618199cd2a",
   "metadata": {},
   "outputs": [
    {
     "data": {
      "text/plain": [
       "\"Arrr, to be checkin' if a\""
      ]
     },
     "execution_count": 29,
     "metadata": {},
     "output_type": "execute_result"
    }
   ],
   "source": [
    "completion.choices[0].message.content"
   ]
  },
  {
   "cell_type": "code",
   "execution_count": null,
   "id": "6bc04817-c13c-42bb-a480-d306853302d2",
   "metadata": {},
   "outputs": [],
   "source": []
  }
 ],
 "metadata": {
  "kernelspec": {
   "display_name": "Python 3 (ipykernel)",
   "language": "python",
   "name": "python3"
  },
  "language_info": {
   "codemirror_mode": {
    "name": "ipython",
    "version": 3
   },
   "file_extension": ".py",
   "mimetype": "text/x-python",
   "name": "python",
   "nbconvert_exporter": "python",
   "pygments_lexer": "ipython3",
   "version": "3.13.5"
  }
 },
 "nbformat": 4,
 "nbformat_minor": 5
}
