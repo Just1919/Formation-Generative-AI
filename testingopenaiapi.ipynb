{
 "cells": [
  {
   "cell_type": "code",
   "execution_count": 3,
   "id": "c35981cd-bf7c-439e-b46b-f282d38e513b",
   "metadata": {},
   "outputs": [],
   "source": [
    "#Import packages\n",
    "import openai"
   ]
  },
  {
   "cell_type": "markdown",
   "id": "7dfc745f-cef3-41e2-952f-c613f4109c0a",
   "metadata": {},
   "source": [
    "# 1. What is OpenAI API ?\n",
    "The OpenAI API allows developers to integrate OpenAI’s AI models (like GPT, DALL·E, or Whisper) into their own applications.\n",
    "It provides tools to generate text, images, code, or analyze data intelligently and automatically.\n"
   ]
  },
  {
   "cell_type": "markdown",
   "id": "533be632-00c3-4548-941a-9240665129d7",
   "metadata": {},
   "source": [
    "# 2. Generate API Key\n",
    "\n"
   ]
  },
  {
   "cell_type": "code",
   "execution_count": null,
   "id": "417ceb3f-5359-48b9-8756-8e94eb7fc123",
   "metadata": {},
   "outputs": [],
   "source": []
  }
 ],
 "metadata": {
  "kernelspec": {
   "display_name": "Python 3 (ipykernel)",
   "language": "python",
   "name": "python3"
  },
  "language_info": {
   "codemirror_mode": {
    "name": "ipython",
    "version": 3
   },
   "file_extension": ".py",
   "mimetype": "text/x-python",
   "name": "python",
   "nbconvert_exporter": "python",
   "pygments_lexer": "ipython3",
   "version": "3.13.5"
  }
 },
 "nbformat": 4,
 "nbformat_minor": 5
}
